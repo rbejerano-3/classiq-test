{
 "cells": [
  {
   "cell_type": "markdown",
   "metadata": {},
   "source": [
    "# Classiq Testing Table of Contents"
   ]
  },
  {
   "cell_type": "markdown",
   "metadata": {},
   "source": [
    "## Algorithms:\n",
    "\n",
    "### Algebraic:\n",
    "[Hidden Shift](algorithms/hidden_shift/hidden_shift.ipynb)\n",
    "\n",
    "## Applications:\n",
    "\n",
    "### Benchmarking:\n",
    "[Quantum Volume](applications/benchmarking/quantum_volume.ipynb)\n",
    "\n",
    "## Built-In Apps:\n",
    "[Chemistry](built_in_apps/chemistry.ipynb)\n"
   ]
  }
 ],
 "metadata": {
  "language_info": {
   "name": "python"
  }
 },
 "nbformat": 4,
 "nbformat_minor": 2
}
